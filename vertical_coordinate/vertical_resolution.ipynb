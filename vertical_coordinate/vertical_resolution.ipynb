{
 "cells": [
  {
   "cell_type": "markdown",
   "metadata": {},
   "source": [
    "# Modelling the vertical resolution of IFS for n levels"
   ]
  },
  {
   "cell_type": "code",
   "execution_count": 1,
   "metadata": {},
   "outputs": [],
   "source": [
    "using CSV\n",
    "using DataFrames\n",
    "using PyPlot\n",
    "using LsqFit"
   ]
  },
  {
   "cell_type": "code",
   "execution_count": 2,
   "metadata": {},
   "outputs": [],
   "source": [
    "L31 = CSV.read(\"L31_phalf_levels.txt\",DataFrame)\n",
    "L40 = CSV.read(\"L40_phalf_levels.txt\",DataFrame)\n",
    "L60 = CSV.read(\"L60_phalf_levels.txt\",DataFrame)\n",
    "L91 = CSV.read(\"L91_phalf_levels.txt\",DataFrame)\n",
    "L137 = CSV.read(\"L137_phalf_levels.txt\",DataFrame);"
   ]
  },
  {
   "cell_type": "code",
   "execution_count": 3,
   "metadata": {},
   "outputs": [],
   "source": [
    "p_half31 = Vector(Array(L31)[:,1])\n",
    "p_half40 = Vector(Array(L40)[:,1])\n",
    "p_half60 = Vector(Array(L60)[:,1])\n",
    "p_half91 = Vector(Array(L91)[:,1])\n",
    "p_half137 = Vector(Array(L137)[:,1]);"
   ]
  },
  {
   "cell_type": "markdown",
   "metadata": {},
   "source": [
    "### Fit a generalised logistic function"
   ]
  },
  {
   "cell_type": "markdown",
   "metadata": {},
   "source": [
    "$Y(x) = A + \\frac{K - A}{(C + Q \\exp(-B(x-M)))^{1/\\nu}}$"
   ]
  },
  {
   "cell_type": "code",
   "execution_count": 4,
   "metadata": {},
   "outputs": [
    {
     "data": {
      "text/plain": [
       "7-element Vector{Float16}:\n",
       " -0.2827\n",
       "  0.871\n",
       "  0.4136\n",
       "  6.695\n",
       " 10.336\n",
       "  0.602\n",
       "  5.812"
      ]
     },
     "execution_count": 4,
     "metadata": {},
     "output_type": "execute_result"
    }
   ],
   "source": [
    "# fit based on L?\n",
    "p0 = 1013.25                       # surface pressure\n",
    "y = p_half31/p0                    # dependent data\n",
    "x = Vector(range(0,1,length(y)))   # independent data\n",
    "\n",
    "# generalised logistic\n",
    "p0 = Float64[0,1,1,1,1,0,1]\n",
    "\n",
    "function model(x,p)\n",
    "    A,K,C,Q,B,M,ν = p\n",
    "    return @. A + (K-A)/(C+Q*exp(-B*(x-M)))^(1/ν)\n",
    "end\n",
    "\n",
    "fit = curve_fit(model,x,y,p0)\n",
    "pfit = coef(fit)\n",
    "x = range(0,1,9)\n",
    "yfit = model(x,Float16.(pfit))\n",
    "Float16.(pfit)   # round for shorter inclusion in the default parameters"
   ]
  },
  {
   "cell_type": "code",
   "execution_count": null,
   "metadata": {
    "scrolled": false
   },
   "outputs": [],
   "source": [
    "for (p,t) in zip([p_half31,p_half40,p_half60,p_half91,p_half137],\n",
    "                    [\"L31\",\"L40\",\"L60\",\"L91\",\"L137\"])\n",
    "    plot(range(0,1,length(p)),p/p[end],label=t,alpha=.7)\n",
    "end\n",
    "\n",
    "yfit[1] = 0\n",
    "yfit[end] = 1\n",
    "\n",
    "plot(x,yfit,\"ko--\",label=\"GL fit\",alpha=.3)\n",
    "\n",
    "xlabel(\"level/nlev\")\n",
    "ylabel(\"σ\")\n",
    "grid(alpha=.3)\n",
    "\n",
    "legend()\n",
    "tight_layout()\n",
    "savefig(\"vertical_levels.png\")"
   ]
  },
  {
   "cell_type": "code",
   "execution_count": 6,
   "metadata": {},
   "outputs": [
    {
     "data": {
      "text/plain": [
       "9×2 Matrix{Float64}:\n",
       " 0.0       0.0\n",
       " 0.073686  0.05\n",
       " 0.162284  0.14\n",
       " 0.272612  0.26\n",
       " 0.408969  0.42\n",
       " 0.573089  0.6\n",
       " 0.75429   0.77\n",
       " 0.913631  0.9\n",
       " 1.0       1.0"
      ]
     },
     "execution_count": 6,
     "metadata": {},
     "output_type": "execute_result"
    }
   ],
   "source": [
    "# new default levels become\n",
    "hcat(yfit,[0.0, 0.05, 0.14, 0.26, 0.42, 0.6, 0.77, 0.9, 1.0])"
   ]
  }
 ],
 "metadata": {
  "kernelspec": {
   "display_name": "Julia 1.7.0",
   "language": "julia",
   "name": "julia-1.7"
  },
  "language_info": {
   "file_extension": ".jl",
   "mimetype": "application/julia",
   "name": "julia",
   "version": "1.7.0"
  }
 },
 "nbformat": 4,
 "nbformat_minor": 4
}
